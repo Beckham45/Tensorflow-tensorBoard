{
  "nbformat": 4,
  "nbformat_minor": 0,
  "metadata": {
    "colab": {
      "name": "tensorboard.ipynb",
      "provenance": [],
      "authorship_tag": "ABX9TyPtec/aZu7ZQpWqLZilJxPq"
    },
    "kernelspec": {
      "name": "python3",
      "display_name": "Python 3"
    },
    "language_info": {
      "name": "python"
    }
  },
  "cells": [
    {
      "cell_type": "code",
      "metadata": {
        "id": "sbkNlVscJQQE"
      },
      "source": [
        "%load_ext tensorboard"
      ],
      "execution_count": 1,
      "outputs": []
    },
    {
      "cell_type": "code",
      "metadata": {
        "id": "CmfDiq6FJXc2"
      },
      "source": [
        "import tensorflow as tf\n",
        "import datetime"
      ],
      "execution_count": 2,
      "outputs": []
    },
    {
      "cell_type": "code",
      "metadata": {
        "id": "J93F4dqNJc2y"
      },
      "source": [
        "#Clear any logs from previous runs\n",
        "#rm -rf ./logs/"
      ],
      "execution_count": null,
      "outputs": []
    },
    {
      "cell_type": "code",
      "metadata": {
        "id": "pMHUN2-FKOXk"
      },
      "source": [
        "#Use keras mnist dataset as an example \n",
        "mnist = tf.keras.datasets.mnist\n",
        "(X_train, y_train), (X_test, y_test) = mnist.load_data()\n",
        "#Normalize the data\n",
        "X_train, X_test = X_train / 255.0, X_test / 255.0\n",
        "\n",
        "#Create the model\n",
        "def create_model():\n",
        "  return tf.keras.Sequential([\n",
        "                       tf.keras.layers.Flatten(input_shape=(28, 28)),\n",
        "                       tf.keras.layers.Dense(512, activation='relu'),\n",
        "                       tf.keras.layers.Dropout(0.2),\n",
        "                       tf.keras.layers.Dense(10, activation='softmax')\n",
        "  ])\n"
      ],
      "execution_count": 8,
      "outputs": []
    },
    {
      "cell_type": "code",
      "metadata": {
        "colab": {
          "base_uri": "https://localhost:8080/"
        },
        "id": "G9LUfm07LrIX",
        "outputId": "d72d41ad-114c-447b-f417-943113960814"
      },
      "source": [
        "model = create_model()\n",
        "model.compile(optimizer='adam', loss='sparse_categorical_crossentropy', metrics=['accuracy'])\n",
        "\n",
        "#Setting Tensorboard with model fit\n",
        "log_dir = '/logs/fit/' + datetime.datetime.now().strftime(\"Y%m%d-H%M%S\")\n",
        "tensorboard_callback = tf.keras.callbacks.TensorBoard(log_dir = log_dir, histogram_freq =1)\n",
        "model.fit(x=X_train, \n",
        "          y=y_train, \n",
        "          epochs=5, \n",
        "          validation_data=(X_test, y_test), \n",
        "          callbacks=[tensorboard_callback])"
      ],
      "execution_count": 12,
      "outputs": [
        {
          "output_type": "stream",
          "text": [
            "Epoch 1/5\n",
            "1875/1875 [==============================] - 9s 4ms/step - loss: 0.3715 - accuracy: 0.8890 - val_loss: 0.1068 - val_accuracy: 0.9676\n",
            "Epoch 2/5\n",
            "1875/1875 [==============================] - 8s 4ms/step - loss: 0.1016 - accuracy: 0.9687 - val_loss: 0.0740 - val_accuracy: 0.9774\n",
            "Epoch 3/5\n",
            "1875/1875 [==============================] - 8s 5ms/step - loss: 0.0683 - accuracy: 0.9778 - val_loss: 0.0713 - val_accuracy: 0.9772\n",
            "Epoch 4/5\n",
            "1875/1875 [==============================] - 9s 5ms/step - loss: 0.0483 - accuracy: 0.9849 - val_loss: 0.0695 - val_accuracy: 0.9797\n",
            "Epoch 5/5\n",
            "1875/1875 [==============================] - 9s 5ms/step - loss: 0.0397 - accuracy: 0.9874 - val_loss: 0.0780 - val_accuracy: 0.9768\n"
          ],
          "name": "stdout"
        },
        {
          "output_type": "execute_result",
          "data": {
            "text/plain": [
              "<tensorflow.python.keras.callbacks.History at 0x7f03256a2650>"
            ]
          },
          "metadata": {
            "tags": []
          },
          "execution_count": 12
        }
      ]
    },
    {
      "cell_type": "code",
      "metadata": {
        "id": "7MmhDXsHO-nO"
      },
      "source": [
        "#Load the tensorboard\n",
        "tensorboard --logdir logs/fit"
      ],
      "execution_count": null,
      "outputs": []
    }
  ]
}